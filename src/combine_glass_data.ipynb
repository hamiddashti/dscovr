{
 "cells": [
  {
   "cell_type": "code",
   "execution_count": 1,
   "metadata": {},
   "outputs": [
    {
     "data": {
      "text/plain": [
       "<dask.config.set at 0x73d5d11f6d60>"
      ]
     },
     "execution_count": 1,
     "metadata": {},
     "output_type": "execute_result"
    }
   ],
   "source": [
    "import pandas as pd\n",
    "import numpy as np\n",
    "import os\n",
    "import glob\n",
    "from datetime import datetime\n",
    "import xarray as xr\n",
    "import rioxarray\n",
    "import dask\n",
    "import multiprocessing\n",
    "from dask.diagnostics import ProgressBar\n",
    "\n",
    "max_workers = multiprocessing.cpu_count()\n",
    "dask.config.set(scheduler=\"threads\", num_workers=max_workers)"
   ]
  },
  {
   "cell_type": "code",
   "execution_count": null,
   "metadata": {},
   "outputs": [],
   "source": [
    "merged_coords_1 = pd.read_csv(\"../data/merged_coords_batch1.csv\")\n",
    "merged_coords_2 = pd.read_csv(\"../data/merged_coords_batch2.csv\")\n",
    "merged_coords = pd.concat([merged_coords_1, merged_coords_2], ignore_index=True)"
   ]
  },
  {
   "cell_type": "code",
   "execution_count": null,
   "metadata": {},
   "outputs": [],
   "source": [
    "name = merged_coords[\"name\"][0]\n",
    "lat = merged_coords[\"Lat\"][0]\n",
    "lon = merged_coords[\"Lon\"][0]\n",
    "base_dir = \"/home/hamid/mnt/nas/Hamid/GLASS/EC_SITES/\"\n",
    "years = np.arange(2002, 2022)\n",
    "fnames = []\n",
    "dates = []\n",
    "\n",
    "for year in years:\n",
    "    dir_path = os.path.join(base_dir, name, str(year))\n",
    "    tif_files = glob.glob(dir_path + \"/*.tif\")\n",
    "    # add and if clause to check if number of files are exactly 46\n",
    "    for file in tif_files:\n",
    "        fnames.append(file)\n",
    "        date_part = file.split(\"/\")[-1].split(\".\")[2][1:]\n",
    "        dates.append(datetime.strptime(date_part, \"%Y%j\").date())"
   ]
  },
  {
   "cell_type": "code",
   "execution_count": null,
   "metadata": {},
   "outputs": [],
   "source": [
    "output_dir = \"/home/hamid/mnt/nas/Hamid/GLASS/xr_files/\""
   ]
  },
  {
   "cell_type": "code",
   "execution_count": null,
   "metadata": {},
   "outputs": [],
   "source": [
    "# Function to process each file\n",
    "def process_file(fname, date):\n",
    "    da = rioxarray.open_rasterio(fname, chunks={\"x\": 1000, \"y\": 1000})\n",
    "    da = da.squeeze().drop(\"band\")  # Remove the band dimension if it exists\n",
    "    da = da.expand_dims(time=[date])  # Add time dimension\n",
    "    return da\n",
    "\n",
    "\n",
    "# Create a list of delayed objects\n",
    "delayed_arrays = [\n",
    "    dask.delayed(process_file)(fname, date) for fname, date in zip(fnames, dates)\n",
    "]\n",
    "\n",
    "data_arrays = dask.compute(*delayed_arrays)\n",
    "combined_da = xr.concat(data_arrays, dim=\"time\")\n",
    "combined_da.attrs[\"site_name\"] = name\n",
    "combined_da.attrs[\"latitude\"] = lat\n",
    "combined_da.attrs[\"longitude\"] = lon\n",
    "ds = combined_da.to_dataset(name=\"glass_lai\")\n",
    "chunks = {\"time\": 1, \"y\": 1000, \"x\": 1000}  # Adjust chunk sizes as needed\n",
    "ds = ds.chunk(chunks)"
   ]
  },
  {
   "cell_type": "code",
   "execution_count": 2,
   "metadata": {},
   "outputs": [
    {
     "data": {
      "text/plain": [
       "15.333333333333334"
      ]
     },
     "execution_count": 2,
     "metadata": {},
     "output_type": "execute_result"
    }
   ],
   "source": [
    "920 / 60"
   ]
  },
  {
   "cell_type": "code",
   "execution_count": null,
   "metadata": {},
   "outputs": [],
   "source": [
    "ds[\"time\"] = pd.to_datetime(ds[\"time\"])"
   ]
  },
  {
   "cell_type": "code",
   "execution_count": null,
   "metadata": {},
   "outputs": [],
   "source": [
    "output_file = os.path.join(output_dir, f\"{name}_GLASS_LAI_2002_2021.nc\")\n",
    "write_job = ds.to_netcdf(\n",
    "    output_file,\n",
    "    engine=\"netcdf4\",\n",
    "    encoding={\n",
    "        \"glass_lai\": {\"zlib\": True, \"complevel\": 5},\n",
    "        \"time\": {\"units\": \"days since 1970-01-01\"},\n",
    "    },\n",
    "    compute=False,  # This returns a Dask delayed object instead of computing immediately\n",
    ")\n",
    "\n",
    "# Execute the write operation with a progress bar\n",
    "print(\"Writing to NetCDF file:\")\n",
    "with ProgressBar():\n",
    "    write_job.compute()"
   ]
  },
  {
   "cell_type": "code",
   "execution_count": null,
   "metadata": {},
   "outputs": [],
   "source": [
    "ds.to_netcdf(\n",
    "    output_file,\n",
    "    engine=\"netcdf4\",\n",
    "    encoding={\"glass_lai\": {\"zlib\": True, \"complevel\": 5}},\n",
    "    compute=True,\n",
    ")"
   ]
  },
  {
   "cell_type": "code",
   "execution_count": null,
   "metadata": {},
   "outputs": [],
   "source": [
    "data_arrays = []\n",
    "\n",
    "for fname, date in zip(fnames, dates):\n",
    "    da = rioxarray.open_rasterio(fname)\n",
    "    da = da.squeeze().drop(\"band\")  # Remove the band dimension if it exists\n",
    "    da = da.expand_dims(time=[date])  # Add time dimension\n",
    "    data_arrays.append(da)\n",
    "combined_da = xr.concat(data_arrays, dim=\"time\")\n",
    "combined_da = combined_da.assign_coords(\n",
    "    lon=(\"x\", np.linspace(lon - 0.5, lon + 0.5, combined_da.shape[-1])),\n",
    "    lat=(\"y\", np.linspace(lat - 0.5, lat + 0.5, combined_da.shape[-2])),\n",
    ")\n",
    "combined_da.attrs[\"site_name\"] = name\n",
    "combined_da.attrs[\"latitude\"] = lat\n",
    "combined_da.attrs[\"longitude\"] = lon\n",
    "ds = combined_da.to_dataset(name=\"glass_lai\")"
   ]
  },
  {
   "cell_type": "code",
   "execution_count": null,
   "metadata": {},
   "outputs": [],
   "source": [
    "    "
   ]
  }
 ],
 "metadata": {
  "kernelspec": {
   "display_name": "dscovr",
   "language": "python",
   "name": "python3"
  },
  "language_info": {
   "codemirror_mode": {
    "name": "ipython",
    "version": 3
   },
   "file_extension": ".py",
   "mimetype": "text/x-python",
   "name": "python",
   "nbconvert_exporter": "python",
   "pygments_lexer": "ipython3",
   "version": "3.9.16"
  }
 },
 "nbformat": 4,
 "nbformat_minor": 2
}
