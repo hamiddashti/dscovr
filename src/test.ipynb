{
 "cells": [
  {
   "cell_type": "code",
   "execution_count": 2,
   "metadata": {},
   "outputs": [],
   "source": [
    "import rioxarray\n",
    "import xarray as xr"
   ]
  },
  {
   "cell_type": "code",
   "execution_count": 4,
   "metadata": {},
   "outputs": [
    {
     "name": "stdout",
     "output_type": "stream",
     "text": [
      "(-115.0, -90.0, -24.999999999999996, 0.0)\n",
      "(-115.0, -90.0, -24.999999999999996, 0.0)\n"
     ]
    }
   ],
   "source": [
    "lai = xr.open_dataarray(\"../outputs/lai.nc\")\n",
    "lai_ok = xr.open_dataarray(\"../outputs/lai_ok.nc\")  \n",
    "print(lai.rio.bounds())\n",
    "print(lai_ok.rio.bounds())  "
   ]
  },
  {
   "cell_type": "code",
   "execution_count": null,
   "metadata": {},
   "outputs": [],
   "source": []
  }
 ],
 "metadata": {
  "kernelspec": {
   "display_name": "dscovr",
   "language": "python",
   "name": "python3"
  },
  "language_info": {
   "codemirror_mode": {
    "name": "ipython",
    "version": 3
   },
   "file_extension": ".py",
   "mimetype": "text/x-python",
   "name": "python",
   "nbconvert_exporter": "python",
   "pygments_lexer": "ipython3",
   "version": "3.12.0"
  },
  "orig_nbformat": 4
 },
 "nbformat": 4,
 "nbformat_minor": 2
}
