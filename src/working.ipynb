{
 "cells": [
  {
   "cell_type": "code",
   "execution_count": 214,
   "metadata": {},
   "outputs": [],
   "source": [
    "import os\n",
    "import numpy as np\n",
    "import pandas as pd\n",
    "from osgeo import gdal, osr\n",
    "import h5py\n",
    "import matplotlib.pylab as plt\n",
    "import xarray as xr\n",
    "import rioxarray\n",
    "\n",
    "\n",
    "def qa_num_to_binary(qa_num):\n",
    "    # Return True if good vegetation data else False\n",
    "    # Refer to the DSCOVR manual for the QA codes\n",
    "    if np.isnan(qa_num):\n",
    "        return False\n",
    "    else:\n",
    "        binary_string = bin(int(qa_num) & 0xFFFF)[2:].zfill(16)\n",
    "        if np.all(np.array(list(binary_string)[-13:]) == \"0\"):\n",
    "            return True\n",
    "        return False\n",
    "\n",
    "        # return binary_string\n",
    "\n",
    "\n",
    "vectorized_qa_num_to_binary = np.vectorize(qa_num_to_binary)\n",
    "\n",
    "\n",
    "def filter_qa(h5f, tile, field):\n",
    "    var = np.array(h5f[tile][field])\n",
    "    var = var.astype(float)\n",
    "    var[(var >= -9999) & (var <= -9997)] = np.nan\n",
    "    qa = np.array(h5f[tile][\"06_QA_VESDR\"])\n",
    "    qa = np.where(np.isfinite(var), qa, np.nan)\n",
    "    good_flag = vectorized_qa_num_to_binary(qa)\n",
    "    if field == \"12_ERTI\":\n",
    "        Scale_factor = 0.01\n",
    "    elif (\n",
    "        (field == \"13_W443\")\n",
    "        | (field == \"14_W551\")\n",
    "        | (field == \"15_W680\")\n",
    "        | (field == \"16_W780\")\n",
    "        | (field == \"07_SZA\")\n",
    "        | (field == \"08_VZA\")\n",
    "        | (field == \"09_SAA\")\n",
    "        | (field == \"10_VAA\")\n",
    "    ):\n",
    "        Scale_factor = 1\n",
    "    else:\n",
    "        # Scale factor for LAI,SLAI,FPAR,NDVI,DASF\n",
    "        Scale_factor = 0.001\n",
    "\n",
    "    var_good = np.where(good_flag == True, var, np.nan) * Scale_factor\n",
    "    print(Scale_factor)\n",
    "    return var_good\n",
    "\n",
    "\n",
    "def make_vrt(outpath, xyPath, tile, var_good, field, date):\n",
    "    # xypath only has the geometric info so we can use it for\n",
    "    xyf = h5py.File(xyPath, \"r\")\n",
    "    # Get geolocations from land cover map and create a vrt map\n",
    "    xyf_x = np.array(xyf[tile][\"Geolocation\"][\"Longitude\"]).reshape(-1, 1)\n",
    "    xyf_y = np.array(xyf[tile][\"Geolocation\"][\"Latitude\"]).reshape(-1, 1)\n",
    "    # h5f_t = np.array(h5f[tile][field]).reshape(-1,1)\n",
    "    h5f_t = var_good.reshape(-1, 1)\n",
    "\n",
    "    out = np.hstack((xyf_x, xyf_y, h5f_t))\n",
    "    out = out.astype(float)\n",
    "    df = pd.DataFrame(out, columns=[\"Lon\", \"Lat\", \"data\"])\n",
    "    df = df[df[\"Lon\"] > -999.0]\n",
    "    df = df[df[\"Lat\"] > -999.0]\n",
    "    df.data[df.data <= -9998] = -9999.0\n",
    "\n",
    "    df.to_csv(\n",
    "        os.path.join(outpath, \"{0}_{1}_{2}.csv\".format(tile, field, date)),\n",
    "        sep=\",\",\n",
    "        index=False,\n",
    "    )\n",
    "    msg = \"\"\"<OGRVRTDataSource>\n",
    "        <OGRVRTLayer name=\"{1}_{2}_{3}\">\n",
    "            <SrcDataSource>{0}{1}_{2}_{3}.csv</SrcDataSource>\n",
    "            <GeometryType>wkbPoint</GeometryType>\n",
    "            <GeometryField encoding=\"PointFromColumns\" x=\"Lon\" y=\"Lat\" z=\"data\"/>\n",
    "        </OGRVRTLayer>\n",
    "    </OGRVRTDataSource>\"\"\".format(\n",
    "        outpath, tile, field, date\n",
    "    )\n",
    "\n",
    "    msgpath = os.path.join(outpath, \"{0}_{1}_{2}.vrt\".format(tile, field, date))\n",
    "    file = open(msgpath, \"w\")\n",
    "    file.write(msg)\n",
    "    file.close()\n",
    "\n",
    "\n",
    "def reproject(inputfile1, inputfile2, outputfile, xmin, xmax, ymin, ymax):\n",
    "    scmd = (\n",
    "        \"gdal_grid -a linear:radius=0:nodata=-9999.0 -txe %f %f -tye %f %f -tr 0.1 0.1 -a_srs EPSG:4326 -of GTiff -ot Float64 -l %s %s %s\"\n",
    "        % (xmin, xmax, ymin, ymax, inputfile1, inputfile2, outputfile)\n",
    "    )\n",
    "    os.system(scmd)"
   ]
  },
  {
   "attachments": {},
   "cell_type": "markdown",
   "metadata": {},
   "source": [
    "### Filter the data\n"
   ]
  },
  {
   "cell_type": "code",
   "execution_count": 210,
   "metadata": {},
   "outputs": [
    {
     "name": "stdout",
     "output_type": "stream",
     "text": [
      "['tile31', '01_LAI']\n",
      "['tile00', 'tile01', 'tile20', 'tile30', 'tile31']\n"
     ]
    }
   ],
   "source": [
    "# Open the hdf file\n",
    "root = \"/home/hamid/dscovr/\"\n",
    "file = \"data/DSCOVR_EPIC_L2_VESDR_02_20160823152458_03.h5\"\n",
    "h5fpath = os.path.join(root, file)\n",
    "\n",
    "h5f = h5py.File(h5fpath, \"r\")\n",
    "date = file.split(\"_\")[5]\n",
    "# Get the exisitng tile list in the file\n",
    "tile_list = [key for key in h5f.keys()]\n",
    "\n",
    "# Get the variables of each tile existing in the file\n",
    "# and filter for good values based on QAs\n",
    "field_list = [\n",
    "    \"01_LAI\",\n",
    "    \"02_SLAI\",\n",
    "    \"03_FPAR\",\n",
    "    \"05_NDVI\",\n",
    "    \"07_SZA\",\n",
    "    \"08_VZA\",\n",
    "    \"09_SAA\",\n",
    "    \"10_VAA\",\n",
    "    \"11_DASF\",\n",
    "    \"12_ERTI\",\n",
    "    \"13_W443\",\n",
    "    \"14_W551\",\n",
    "    \"15_W680\",\n",
    "    \"16_W780\",\n",
    "]\n",
    "tile = tile_list[4]\n",
    "field = field_list[0]\n",
    "print([tile, field])\n",
    "print(tile_list)"
   ]
  },
  {
   "cell_type": "code",
   "execution_count": 211,
   "metadata": {},
   "outputs": [
    {
     "name": "stdout",
     "output_type": "stream",
     "text": [
      "0.001\n"
     ]
    },
    {
     "data": {
      "text/plain": [
       "<matplotlib.colorbar.Colorbar at 0x7fae0d027ec0>"
      ]
     },
     "execution_count": 211,
     "metadata": {},
     "output_type": "execute_result"
    },
    {
     "data": {
      "image/png": "[encoded data removed]",
      "text/plain": [
       "<Figure size 640x480 with 2 Axes>"
      ]
     },
     "metadata": {},
     "output_type": "display_data"
    }
   ],
   "source": [
    "var_good = filter_qa(h5f, tile, field)"
   ]
  },
  {
   "attachments": {},
   "cell_type": "markdown",
   "metadata": {},
   "source": [
    "### Reproject to WGS\n"
   ]
  },
  {
   "cell_type": "code",
   "execution_count": 215,
   "metadata": {},
   "outputs": [],
   "source": [
    "outpath = r\"/home/hamid/dscovr/outputs/\"\n",
    "xyPath = root + \"data/MCDLCHKM.V2010_01.REGIONALbio.10018m.BlocksOP.h5\"\n",
    "make_vrt(outpath, xyPath, tile, var_good, field, date)"
   ]
  },
  {
   "cell_type": "code",
   "execution_count": 222,
   "metadata": {},
   "outputs": [],
   "source": [
    "if tile == \"tile00\":\n",
    "    xmin, xmax = -25, 65\n",
    "    ymin, ymax = 0, 90\n",
    "if tile == \"tile01\":\n",
    "    xmin, xmax = -25, 65\n",
    "    ymin, ymax = -90, 0\n",
    "\n",
    "if tile == \"tile10\":\n",
    "    xmin, xmax = 65, 155\n",
    "    ymin, ymax = 0, 90\n",
    "\n",
    "if tile == \"tile11\":\n",
    "    xmin, xmax = 65, 155\n",
    "    ymin, ymax = -90, 0\n",
    "\n",
    "if tile == \"tile30\":\n",
    "    xmin, xmax = -115, -25\n",
    "    ymin, ymax = 0, 90\n",
    "\n",
    "if tile == \"tile31\":\n",
    "    xmin, xmax = -115, -25\n",
    "    ymin, ymax = -90, 0\n",
    "\n",
    "inputfile1 = tile + \"_\" + field + \"_\" + date\n",
    "inputfile2 = outpath + tile + \"_\" + field + \"_\" + date + \".vrt\"\n",
    "outputfile = outpath + field + \"_\" + date + \"_\" + tile + \".tif\""
   ]
  },
  {
   "cell_type": "code",
   "execution_count": 223,
   "metadata": {},
   "outputs": [
    {
     "name": "stdout",
     "output_type": "stream",
     "text": [
      "Grid data type is \"Float64\"\n",
      "Grid size = (900 900).\n",
      "Corner coordinates = (-115.000000 0.000000)-(-25.000000 -90.000000).\n",
      "Grid cell size = (0.100000 -0.100000).\n",
      "Source point count = 918378.\n",
      "Algorithm name: \"linear\".\n",
      "Options are \"radius=0.000000:nodata=-9999.000000\"\n",
      "\n",
      "0...10...20...30...40...50...60...70...80...90...100 - done.\n"
     ]
    }
   ],
   "source": [
    "reproject(inputfile1, inputfile2, outputfile, xmin, xmax, ymin, ymax)"
   ]
  },
  {
   "cell_type": "code",
   "execution_count": 100,
   "metadata": {},
   "outputs": [
    {
     "name": "stdout",
     "output_type": "stream",
     "text": [
      "Grid data type is \"Float64\"\n",
      "Grid size = (650 900).\n",
      "Corner coordinates = (-180.000000 90.000000)-(-115.000000 0.000000).\n",
      "Grid cell size = (0.100000 -0.100000).\n",
      "Source point count = 919378.\n",
      "Algorithm name: \"linear\".\n",
      "Options are \"radius=0.000000:nodata=-9999.000000\"\n",
      "\n",
      "0...10...20...30...40...50...60...70...80...90...100 - done.\n",
      "Grid data type is \"Float64\"\n",
      "Grid size = (250 900).\n",
      "Corner coordinates = (155.000000 90.000000)-(180.000000 0.000000).\n",
      "Grid cell size = (0.100000 -0.100000).\n",
      "Source point count = 919378.\n",
      "Algorithm name: \"linear\".\n",
      "Options are \"radius=0.000000:nodata=-9999.000000\"\n",
      "\n",
      "0...10...20...30...40...50...60...70...80...90...100 - done.\n"
     ]
    }
   ],
   "source": [
    "if tile == \"tile20\":\n",
    "    # Do the US side\n",
    "    xmin, xmax = -180, -115\n",
    "    ymin, ymax = 0, 90\n",
    "    inputfile1 = tile + \"_\" + field + \"_\" + date\n",
    "    inputfile2 = outpath + tile + \"_\" + field + \"_\" + date + \".vrt\"\n",
    "    outputfile = outpath + field + \"_\" + date + \"_\" + tile + \"_US.tif\"\n",
    "    scmd = (\n",
    "        \"gdal_grid -a linear:radius=0:nodata=-9999.0 -txe %f %f -tye %f %f -tr 0.1 0.1 -a_srs EPSG:4326 -of GTiff -ot Float64 -l %s %s %s\"\n",
    "        % (xmin, xmax, ymin, ymax, inputfile1, inputfile2, outputfile)\n",
    "    )\n",
    "    os.system(scmd)\n",
    "\n",
    "    # Do the Asia side\n",
    "    xmin, xmax = 155, 180\n",
    "    inputfile1 = tile + \"_\" + field + \"_\" + date\n",
    "    inputfile2 = outpath + tile + \"_\" + field + \"_\" + date + \".vrt\"\n",
    "    outputfile = outpath + field + \"_\" + date + \"_\" + tile + \"_Asia.tif\"\n",
    "    scmd = (\n",
    "        \"gdal_grid -a linear:radius=0:nodata=-9999.0 -txe %f %f -tye %f %f -tr 0.1 0.1 -a_srs EPSG:4326 -of GTiff -ot Float64 -l %s %s %s\"\n",
    "        % (xmin, xmax, ymin, ymax, inputfile1, inputfile2, outputfile)\n",
    "    )\n",
    "    os.system(scmd)\n",
    "\n",
    "if tile == \"tile21\":\n",
    "    # Do the US side\n",
    "    xmin, xmax = -180, -115\n",
    "    ymin, ymax = -90, 0\n",
    "    inputfile1 = tile + \"_\" + field + \"_\" + date\n",
    "    inputfile2 = outpath + tile + \"_\" + field + \"_\" + date + \".vrt\"\n",
    "    outputfile = outpath + field + \"_\" + date + \"_\" + tile + \"_US.tif\"\n",
    "    scmd = (\n",
    "        \"gdal_grid -a linear:radius=0:nodata=-9999.0 -txe %f %f -tye %f %f -tr 0.1 0.1 -a_srs EPSG:4326 -of GTiff -ot Float64 -l %s %s %s\"\n",
    "        % (xmin, xmax, ymin, ymax, inputfile1, inputfile2, outputfile)\n",
    "    )\n",
    "    os.system(scmd)\n",
    "\n",
    "    # Do the Asia side\n",
    "    xmin, xmax = 155, 180\n",
    "    inputfile1 = tile + \"_\" + field + \"_\" + date\n",
    "    inputfile2 = outpath + tile + \"_\" + field + \"_\" + date + \".vrt\"\n",
    "    outputfile = outpath + field + \"_\" + date + \"_\" + tile + \"_Asia.tif\"\n",
    "    scmd = (\n",
    "        \"gdal_grid -a linear:radius=0:nodata=-9999.0 -txe %f %f -tye %f %f -tr 0.1 0.1 -a_srs EPSG:4326 -of GTiff -ot Float64 -l %s %s %s\"\n",
    "        % (xmin, xmax, ymin, ymax, inputfile1, inputfile2, outputfile)\n",
    "    )\n",
    "    os.system(scmd)"
   ]
  }
 ],
 "metadata": {
  "kernelspec": {
   "display_name": "dscovr",
   "language": "python",
   "name": "python3"
  },
  "language_info": {
   "codemirror_mode": {
    "name": "ipython",
    "version": 3
   },
   "file_extension": ".py",
   "mimetype": "text/x-python",
   "name": "python",
   "nbconvert_exporter": "python",
   "pygments_lexer": "ipython3",
   "version": "3.12.0"
  },
  "orig_nbformat": 4
 },
 "nbformat": 4,
 "nbformat_minor": 2
}
