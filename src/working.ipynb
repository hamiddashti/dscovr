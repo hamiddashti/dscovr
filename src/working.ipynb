{
 "cells": [
  {
   "cell_type": "code",
   "execution_count": 244,
   "metadata": {},
   "outputs": [
    {
     "name": "stdout",
     "output_type": "stream",
     "text": [
      "tile31\n"
     ]
    }
   ],
   "source": [
    "import os\n",
    "import numpy as np\n",
    "import pandas as pd\n",
    "from osgeo import gdal, osr\n",
    "import h5py\n",
    "import matplotlib.pylab as plt\n",
    "\n",
    "\n",
    "def qa_num_to_binary(qa_num):\n",
    "## Convert number to binary\n",
    "    if np.isnan(qa_num):\n",
    "        return 'NaN'\n",
    "    else:\n",
    "        binary_string = bin(int(qa_num) & 0xFFFF)[2:].zfill(16)\n",
    "        return binary_string\n",
    "\n",
    "# Apply the function to the entire array using np.vectorize\n",
    "vectorized_qa_num_to_binary = np.vectorize(qa_num_to_binary)\n",
    "\n",
    "# Open the hdf file\n",
    "root = \"/home/hamid/dscovr/\"\n",
    "file = \"data/DSCOVR_EPIC_L2_VESDR_02_20160823152458_03.h5\"\n",
    "h5fpath  = os.path.join(root, file)   \n",
    "h5f = h5py.File(h5fpath, \"r\") \n",
    "date = file.split(\"_\")[5]\n",
    "\n",
    "# Get the exisitng tile list in the file\n",
    "tile_list = [key for key in h5f.keys()]\n",
    "\n",
    "# Open on one tile\n",
    "tile = tile_list[4]\n",
    "print(tile)\n",
    "\n",
    "# extract NDVI\n",
    "ndvi_field = '05_NDVI'\n",
    "qa_field = '06_QA_VESDR'\n",
    "Scale_factor_VESDR = 0.001\n"
   ]
  },
  {
   "cell_type": "code",
   "execution_count": 220,
   "metadata": {},
   "outputs": [],
   "source": [
    "ndvi = np.array(h5f[tile][ndvi_field])\n",
    "ndvi = ndvi.astype(float)\n",
    "ndvi[(ndvi >= -9999) & (ndvi <= -9997)] = np.nan\n",
    "qa = np.array(h5f[tile][qa_field])\n",
    "qa = np.where(np.isfinite(ndvi),qa,np.nan)\n"
   ]
  },
  {
   "cell_type": "code",
   "execution_count": 224,
   "metadata": {},
   "outputs": [],
   "source": [
    "qa_bin = vectorized_qa_num_to_binary(qa)"
   ]
  },
  {
   "cell_type": "code",
   "execution_count": 226,
   "metadata": {},
   "outputs": [
    {
     "data": {
      "text/plain": [
       "array([['NaN', 'NaN', 'NaN', ..., 'NaN', 'NaN', 'NaN'],\n",
       "       ['NaN', 'NaN', 'NaN', ..., 'NaN', 'NaN', '0000000000000111'],\n",
       "       ['NaN', 'NaN', 'NaN', ..., 'NaN', 'NaN', 'NaN'],\n",
       "       ...,\n",
       "       ['NaN', 'NaN', 'NaN', ..., 'NaN', 'NaN', 'NaN'],\n",
       "       ['NaN', 'NaN', 'NaN', ..., 'NaN', 'NaN', 'NaN'],\n",
       "       ['NaN', 'NaN', 'NaN', ..., 'NaN', 'NaN', 'NaN']], dtype='<U16')"
      ]
     },
     "execution_count": 226,
     "metadata": {},
     "output_type": "execute_result"
    }
   ],
   "source": [
    "indices = np.where(np.isfinite(qa))\n",
    "r = indices[0][0]\n",
    "c = indices[1][0]\n",
    "\n",
    "qa_bin\n"
   ]
  },
  {
   "cell_type": "code",
   "execution_count": 212,
   "metadata": {},
   "outputs": [],
   "source": [
    "mask = np.all(np.array([list(row)[-9:] for row in qa_bin]) == '0', axis=1)\n",
    "\n",
    "# Mask the binary representations where bits 0 to 8 are all 0\n",
    "masked_binaries = np.where(mask[:, np.newaxis], 'Masked', qa_bin)\n",
    "\n"
   ]
  },
  {
   "cell_type": "code",
   "execution_count": 232,
   "metadata": {},
   "outputs": [
    {
     "name": "stdout",
     "output_type": "stream",
     "text": [
      "[[False]\n",
      " [False]]\n"
     ]
    }
   ],
   "source": [
    "bin_array = np.array([['0000000000000111', '0000000000000000', '0000000010101010'],\n",
    "                      ['1111111111111111', '0000000000000000', '0000000000001000']])\n",
    "\n",
    "# Create a boolean mask based on the condition\n",
    "mask = np.all(np.array([list(row)[-9:] for row in bin_array]) == '0', axis=1)[:, np.newaxis]\n",
    "# Print the mask\n",
    "print(mask)"
   ]
  },
  {
   "cell_type": "code",
   "execution_count": 267,
   "metadata": {},
   "outputs": [],
   "source": [
    "def qa_num_to_binary1(qa_num):\n",
    "## Convert number to binary\n",
    "    if np.isnan(qa_num):\n",
    "        return False\n",
    "    else:\n",
    "        binary_string = bin(int(qa_num) & 0xFFFF)[2:].zfill(16)\n",
    "        if np.all(np.array(list(binary_string)[-9:])=='0'):\n",
    "            return True\n",
    "        return False\n",
    "\n",
    "        # return binary_string\n"
   ]
  },
  {
   "cell_type": "code",
   "execution_count": 251,
   "metadata": {},
   "outputs": [
    {
     "data": {
      "text/plain": [
       "True"
      ]
     },
     "execution_count": 251,
     "metadata": {},
     "output_type": "execute_result"
    }
   ],
   "source": [
    "binary_string = bin(int(1536) & 0xFFFF)[2:].zfill(16)\n",
    "np.all(np.array(list(binary_string)[-9:])=='0')"
   ]
  },
  {
   "cell_type": "code",
   "execution_count": 268,
   "metadata": {},
   "outputs": [],
   "source": [
    "vectorized_qa_num_to_binary1 = np.vectorize(qa_num_to_binary1)"
   ]
  },
  {
   "cell_type": "code",
   "execution_count": 269,
   "metadata": {},
   "outputs": [],
   "source": [
    "qa_bin1 = vectorized_qa_num_to_binary1(qa)"
   ]
  },
  {
   "cell_type": "code",
   "execution_count": 273,
   "metadata": {},
   "outputs": [
    {
     "data": {
      "text/plain": [
       "<matplotlib.image.AxesImage at 0x7f7180121af0>"
      ]
     },
     "execution_count": 273,
     "metadata": {},
     "output_type": "execute_result"
    },
    {
     "data": {
      "image/png": "[encoded data removed]",
      "text/plain": [
       "<Figure size 640x480 with 1 Axes>"
      ]
     },
     "metadata": {},
     "output_type": "display_data"
    }
   ],
   "source": [
    "plt.imshow(qa_bin1)"
   ]
  }
 ],
 "metadata": {
  "kernelspec": {
   "display_name": "dscovr",
   "language": "python",
   "name": "python3"
  },
  "language_info": {
   "codemirror_mode": {
    "name": "ipython",
    "version": 3
   },
   "file_extension": ".py",
   "mimetype": "text/x-python",
   "name": "python",
   "nbconvert_exporter": "python",
   "pygments_lexer": "ipython3",
   "version": "3.12.0"
  },
  "orig_nbformat": 4
 },
 "nbformat": 4,
 "nbformat_minor": 2
}
